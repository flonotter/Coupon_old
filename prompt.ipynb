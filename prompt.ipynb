{
 "cells": [
  {
   "cell_type": "markdown",
   "metadata": {},
   "source": [
    "### Will a Customer Accept the Coupon?\n",
    "\n",
    "**Context**\n",
    "\n",
    "Imagine driving through town and a coupon is delivered to your cell phone for a restaraunt near where you are driving. Would you accept that coupon and take a short detour to the restaraunt? Would you accept the coupon but use it on a sunbsequent trip? Would you ignore the coupon entirely? What if the coupon was for a bar instead of a restaraunt? What about a coffee house? Would you accept a bar coupon with a minor passenger in the car? What about if it was just you and your partner in the car? Would weather impact the rate of acceptance? What about the time of day?\n",
    "\n",
    "Obviously, proximity to the business is a factor on whether the coupon is delivered to the driver or not, but what are the factors that determine whether a driver accepts the coupon once it is delivered to them? How would you determine whether a driver is likely to accept a coupon?\n",
    "\n",
    "**Overview**\n",
    "\n",
    "The goal of this project is to use what you know about visualizations and probability distributions to distinguish between customers who accepted a driving coupon versus those that did not.\n",
    "\n",
    "**Data**\n",
    "\n",
    "This data comes to us from the UCI Machine Learning repository and was collected via a survey on Amazon Mechanical Turk. The survey describes different driving scenarios including the destination, current time, weather, passenger, etc., and then ask the person whether he will accept the coupon if he is the driver. Answers that the user will drive there ‘right away’ or ‘later before the coupon expires’ are labeled as ‘Y = 1’ and answers ‘no, I do not want the coupon’ are labeled as ‘Y = 0’.  There are five different types of coupons -- less expensive restaurants (under \\\\$20), coffee houses, carry out & take away, bar, and more expensive restaurants (\\\\$20 - \\\\$50). "
   ]
  },
  {
   "cell_type": "markdown",
   "metadata": {},
   "source": [
    "**Deliverables**\n",
    "\n",
    "Your final product should be a brief report that highlights the differences between customers who did and did not accept the coupons.  To explore the data you will utilize your knowledge of plotting, statistical summaries, and visualization using Python. You will publish your findings in a public facing github repository as your first portfolio piece. \n",
    "\n",
    "\n",
    "\n"
   ]
  },
  {
   "cell_type": "markdown",
   "metadata": {},
   "source": [
    "### Data Description\n",
    "Keep in mind that these values mentioned below are average values.\n",
    "\n",
    "The attributes of this data set include:\n",
    "1. User attributes\n",
    "    -  Gender: male, female\n",
    "    -  Age: below 21, 21 to 25, 26 to 30, etc.\n",
    "    -  Marital Status: single, married partner, unmarried partner, or widowed\n",
    "    -  Number of children: 0, 1, or more than 1\n",
    "    -  Education: high school, bachelors degree, associates degree, or graduate degree\n",
    "    -  Occupation: architecture & engineering, business & financial, etc.\n",
    "    -  Annual income: less than \\\\$12500, \\\\$12500 - \\\\$24999, \\\\$25000 - \\\\$37499, etc.\n",
    "    -  Number of times that he/she goes to a bar: 0, less than 1, 1 to 3, 4 to 8 or greater than 8\n",
    "    -  Number of times that he/she buys takeaway food: 0, less than 1, 1 to 3, 4 to 8 or greater\n",
    "    than 8\n",
    "    -  Number of times that he/she goes to a coffee house: 0, less than 1, 1 to 3, 4 to 8 or\n",
    "    greater than 8\n",
    "    -  Number of times that he/she eats at a restaurant with average expense less than \\\\$20 per\n",
    "    person: 0, less than 1, 1 to 3, 4 to 8 or greater than 8\n",
    "    -  Number of times that he/she goes to a bar: 0, less than 1, 1 to 3, 4 to 8 or greater than 8\n",
    "    \n",
    "\n",
    "2. Contextual attributes\n",
    "    - Driving destination: home, work, or no urgent destination\n",
    "    - Location of user, coupon and destination: we provide a map to show the geographical\n",
    "    location of the user, destination, and the venue, and we mark the distance between each\n",
    "    two places with time of driving. The user can see whether the venue is in the same\n",
    "    direction as the destination.\n",
    "    - Weather: sunny, rainy, or snowy\n",
    "    - Temperature: 30F, 55F, or 80F\n",
    "    - Time: 10AM, 2PM, or 6PM\n",
    "    - Passenger: alone, partner, kid(s), or friend(s)\n",
    "\n",
    "\n",
    "3. Coupon attributes\n",
    "    - time before it expires: 2 hours or one day"
   ]
  },
  {
   "cell_type": "code",
   "execution_count": 1,
   "metadata": {},
   "outputs": [],
   "source": [
    "import matplotlib.pyplot as plt\n",
    "import seaborn as sns\n",
    "import pandas as pd\n",
    "import numpy as np"
   ]
  },
  {
   "cell_type": "markdown",
   "metadata": {},
   "source": [
    "### Problems\n",
    "\n",
    "Use the prompts below to get started with your data analysis.  \n",
    "\n",
    "1. Read in the `coupons.csv` file.\n",
    "\n",
    "\n"
   ]
  },
  {
   "cell_type": "code",
   "execution_count": 2,
   "metadata": {},
   "outputs": [],
   "source": [
    "data = pd.read_csv('data/coupons.csv')"
   ]
  },
  {
   "cell_type": "code",
   "execution_count": 3,
   "metadata": {},
   "outputs": [
    {
     "data": {
      "text/html": [
       "<div>\n",
       "<style scoped>\n",
       "    .dataframe tbody tr th:only-of-type {\n",
       "        vertical-align: middle;\n",
       "    }\n",
       "\n",
       "    .dataframe tbody tr th {\n",
       "        vertical-align: top;\n",
       "    }\n",
       "\n",
       "    .dataframe thead th {\n",
       "        text-align: right;\n",
       "    }\n",
       "</style>\n",
       "<table border=\"1\" class=\"dataframe\">\n",
       "  <thead>\n",
       "    <tr style=\"text-align: right;\">\n",
       "      <th></th>\n",
       "      <th>destination</th>\n",
       "      <th>passanger</th>\n",
       "      <th>weather</th>\n",
       "      <th>temperature</th>\n",
       "      <th>time</th>\n",
       "      <th>coupon</th>\n",
       "      <th>expiration</th>\n",
       "      <th>gender</th>\n",
       "      <th>age</th>\n",
       "      <th>maritalStatus</th>\n",
       "      <th>...</th>\n",
       "      <th>CoffeeHouse</th>\n",
       "      <th>CarryAway</th>\n",
       "      <th>RestaurantLessThan20</th>\n",
       "      <th>Restaurant20To50</th>\n",
       "      <th>toCoupon_GEQ5min</th>\n",
       "      <th>toCoupon_GEQ15min</th>\n",
       "      <th>toCoupon_GEQ25min</th>\n",
       "      <th>direction_same</th>\n",
       "      <th>direction_opp</th>\n",
       "      <th>Y</th>\n",
       "    </tr>\n",
       "  </thead>\n",
       "  <tbody>\n",
       "    <tr>\n",
       "      <th>0</th>\n",
       "      <td>No Urgent Place</td>\n",
       "      <td>Alone</td>\n",
       "      <td>Sunny</td>\n",
       "      <td>55</td>\n",
       "      <td>2PM</td>\n",
       "      <td>Restaurant(&lt;20)</td>\n",
       "      <td>1d</td>\n",
       "      <td>Female</td>\n",
       "      <td>21</td>\n",
       "      <td>Unmarried partner</td>\n",
       "      <td>...</td>\n",
       "      <td>never</td>\n",
       "      <td>NaN</td>\n",
       "      <td>4~8</td>\n",
       "      <td>1~3</td>\n",
       "      <td>1</td>\n",
       "      <td>0</td>\n",
       "      <td>0</td>\n",
       "      <td>0</td>\n",
       "      <td>1</td>\n",
       "      <td>1</td>\n",
       "    </tr>\n",
       "    <tr>\n",
       "      <th>1</th>\n",
       "      <td>No Urgent Place</td>\n",
       "      <td>Friend(s)</td>\n",
       "      <td>Sunny</td>\n",
       "      <td>80</td>\n",
       "      <td>10AM</td>\n",
       "      <td>Coffee House</td>\n",
       "      <td>2h</td>\n",
       "      <td>Female</td>\n",
       "      <td>21</td>\n",
       "      <td>Unmarried partner</td>\n",
       "      <td>...</td>\n",
       "      <td>never</td>\n",
       "      <td>NaN</td>\n",
       "      <td>4~8</td>\n",
       "      <td>1~3</td>\n",
       "      <td>1</td>\n",
       "      <td>0</td>\n",
       "      <td>0</td>\n",
       "      <td>0</td>\n",
       "      <td>1</td>\n",
       "      <td>0</td>\n",
       "    </tr>\n",
       "    <tr>\n",
       "      <th>2</th>\n",
       "      <td>No Urgent Place</td>\n",
       "      <td>Friend(s)</td>\n",
       "      <td>Sunny</td>\n",
       "      <td>80</td>\n",
       "      <td>10AM</td>\n",
       "      <td>Carry out &amp; Take away</td>\n",
       "      <td>2h</td>\n",
       "      <td>Female</td>\n",
       "      <td>21</td>\n",
       "      <td>Unmarried partner</td>\n",
       "      <td>...</td>\n",
       "      <td>never</td>\n",
       "      <td>NaN</td>\n",
       "      <td>4~8</td>\n",
       "      <td>1~3</td>\n",
       "      <td>1</td>\n",
       "      <td>1</td>\n",
       "      <td>0</td>\n",
       "      <td>0</td>\n",
       "      <td>1</td>\n",
       "      <td>1</td>\n",
       "    </tr>\n",
       "    <tr>\n",
       "      <th>3</th>\n",
       "      <td>No Urgent Place</td>\n",
       "      <td>Friend(s)</td>\n",
       "      <td>Sunny</td>\n",
       "      <td>80</td>\n",
       "      <td>2PM</td>\n",
       "      <td>Coffee House</td>\n",
       "      <td>2h</td>\n",
       "      <td>Female</td>\n",
       "      <td>21</td>\n",
       "      <td>Unmarried partner</td>\n",
       "      <td>...</td>\n",
       "      <td>never</td>\n",
       "      <td>NaN</td>\n",
       "      <td>4~8</td>\n",
       "      <td>1~3</td>\n",
       "      <td>1</td>\n",
       "      <td>1</td>\n",
       "      <td>0</td>\n",
       "      <td>0</td>\n",
       "      <td>1</td>\n",
       "      <td>0</td>\n",
       "    </tr>\n",
       "    <tr>\n",
       "      <th>4</th>\n",
       "      <td>No Urgent Place</td>\n",
       "      <td>Friend(s)</td>\n",
       "      <td>Sunny</td>\n",
       "      <td>80</td>\n",
       "      <td>2PM</td>\n",
       "      <td>Coffee House</td>\n",
       "      <td>1d</td>\n",
       "      <td>Female</td>\n",
       "      <td>21</td>\n",
       "      <td>Unmarried partner</td>\n",
       "      <td>...</td>\n",
       "      <td>never</td>\n",
       "      <td>NaN</td>\n",
       "      <td>4~8</td>\n",
       "      <td>1~3</td>\n",
       "      <td>1</td>\n",
       "      <td>1</td>\n",
       "      <td>0</td>\n",
       "      <td>0</td>\n",
       "      <td>1</td>\n",
       "      <td>0</td>\n",
       "    </tr>\n",
       "  </tbody>\n",
       "</table>\n",
       "<p>5 rows × 26 columns</p>\n",
       "</div>"
      ],
      "text/plain": [
       "       destination  passanger weather  temperature  time  \\\n",
       "0  No Urgent Place      Alone   Sunny           55   2PM   \n",
       "1  No Urgent Place  Friend(s)   Sunny           80  10AM   \n",
       "2  No Urgent Place  Friend(s)   Sunny           80  10AM   \n",
       "3  No Urgent Place  Friend(s)   Sunny           80   2PM   \n",
       "4  No Urgent Place  Friend(s)   Sunny           80   2PM   \n",
       "\n",
       "                  coupon expiration  gender age      maritalStatus  ...  \\\n",
       "0        Restaurant(<20)         1d  Female  21  Unmarried partner  ...   \n",
       "1           Coffee House         2h  Female  21  Unmarried partner  ...   \n",
       "2  Carry out & Take away         2h  Female  21  Unmarried partner  ...   \n",
       "3           Coffee House         2h  Female  21  Unmarried partner  ...   \n",
       "4           Coffee House         1d  Female  21  Unmarried partner  ...   \n",
       "\n",
       "   CoffeeHouse CarryAway RestaurantLessThan20 Restaurant20To50  \\\n",
       "0        never       NaN                  4~8              1~3   \n",
       "1        never       NaN                  4~8              1~3   \n",
       "2        never       NaN                  4~8              1~3   \n",
       "3        never       NaN                  4~8              1~3   \n",
       "4        never       NaN                  4~8              1~3   \n",
       "\n",
       "  toCoupon_GEQ5min toCoupon_GEQ15min toCoupon_GEQ25min direction_same  \\\n",
       "0                1                 0                 0              0   \n",
       "1                1                 0                 0              0   \n",
       "2                1                 1                 0              0   \n",
       "3                1                 1                 0              0   \n",
       "4                1                 1                 0              0   \n",
       "\n",
       "  direction_opp  Y  \n",
       "0             1  1  \n",
       "1             1  0  \n",
       "2             1  1  \n",
       "3             1  0  \n",
       "4             1  0  \n",
       "\n",
       "[5 rows x 26 columns]"
      ]
     },
     "execution_count": 3,
     "metadata": {},
     "output_type": "execute_result"
    }
   ],
   "source": [
    "data.head()"
   ]
  },
  {
   "cell_type": "markdown",
   "metadata": {},
   "source": [
    "2. Investigate the dataset for missing or problematic data."
   ]
  },
  {
   "cell_type": "code",
   "execution_count": 4,
   "metadata": {},
   "outputs": [
    {
     "name": "stdout",
     "output_type": "stream",
     "text": [
      "destination                 0\n",
      "passanger                   0\n",
      "weather                     0\n",
      "temperature                 0\n",
      "time                        0\n",
      "coupon                      0\n",
      "expiration                  0\n",
      "gender                      0\n",
      "age                         0\n",
      "maritalStatus               0\n",
      "has_children                0\n",
      "education                   0\n",
      "occupation                  0\n",
      "income                      0\n",
      "car                     12576\n",
      "Bar                       107\n",
      "CoffeeHouse               217\n",
      "CarryAway                 151\n",
      "RestaurantLessThan20      130\n",
      "Restaurant20To50          189\n",
      "toCoupon_GEQ5min            0\n",
      "toCoupon_GEQ15min           0\n",
      "toCoupon_GEQ25min           0\n",
      "direction_same              0\n",
      "direction_opp               0\n",
      "Y                           0\n",
      "dtype: int64\n"
     ]
    }
   ],
   "source": [
    "# Check for Missing Values\n",
    "missing_data = data.isnull().sum()\n",
    "print(missing_data)"
   ]
  },
  {
   "cell_type": "code",
   "execution_count": 5,
   "metadata": {},
   "outputs": [
    {
     "name": "stdout",
     "output_type": "stream",
     "text": [
      "destination             object\n",
      "passanger               object\n",
      "weather                 object\n",
      "temperature              int64\n",
      "time                    object\n",
      "coupon                  object\n",
      "expiration              object\n",
      "gender                  object\n",
      "age                     object\n",
      "maritalStatus           object\n",
      "has_children             int64\n",
      "education               object\n",
      "occupation              object\n",
      "income                  object\n",
      "car                     object\n",
      "Bar                     object\n",
      "CoffeeHouse             object\n",
      "CarryAway               object\n",
      "RestaurantLessThan20    object\n",
      "Restaurant20To50        object\n",
      "toCoupon_GEQ5min         int64\n",
      "toCoupon_GEQ15min        int64\n",
      "toCoupon_GEQ25min        int64\n",
      "direction_same           int64\n",
      "direction_opp            int64\n",
      "Y                        int64\n",
      "dtype: object\n"
     ]
    }
   ],
   "source": [
    "# Check for Data Types\n",
    "data_types = data.dtypes\n",
    "print(data_types)"
   ]
  },
  {
   "cell_type": "code",
   "execution_count": 6,
   "metadata": {},
   "outputs": [
    {
     "name": "stdout",
     "output_type": "stream",
     "text": [
      "     destination passanger weather  temperature  time                 coupon  \\\n",
      "4192        Work     Alone   Sunny           80   7AM  Carry out & Take away   \n",
      "4236        Work     Alone   Sunny           80   7AM  Carry out & Take away   \n",
      "4280        Work     Alone   Sunny           80   7AM  Carry out & Take away   \n",
      "4324        Work     Alone   Sunny           80   7AM  Carry out & Take away   \n",
      "4409        Work     Alone   Sunny           80   7AM  Carry out & Take away   \n",
      "...          ...       ...     ...          ...   ...                    ...   \n",
      "8511        Home     Alone   Sunny           80   6PM                    Bar   \n",
      "8512        Home   Partner   Sunny           30  10PM  Carry out & Take away   \n",
      "8513        Work     Alone   Rainy           55   7AM        Restaurant(<20)   \n",
      "8515        Work     Alone   Snowy           30   7AM      Restaurant(20-50)   \n",
      "8516        Work     Alone   Sunny           80   7AM        Restaurant(<20)   \n",
      "\n",
      "     expiration  gender age    maritalStatus  ...  CoffeeHouse CarryAway  \\\n",
      "4192         1d    Male  26           Single  ...        never       1~3   \n",
      "4236         1d    Male  26           Single  ...          gt8       gt8   \n",
      "4280         1d  Female  26           Single  ...        never       4~8   \n",
      "4324         1d  Female  46           Single  ...        never       4~8   \n",
      "4409         1d  Female  21           Single  ...        never     less1   \n",
      "...         ...     ...  ..              ...  ...          ...       ...   \n",
      "8511         2h    Male  46  Married partner  ...          1~3       1~3   \n",
      "8512         2h    Male  46  Married partner  ...          1~3       1~3   \n",
      "8513         2h    Male  46  Married partner  ...          1~3       1~3   \n",
      "8515         1d    Male  46  Married partner  ...          1~3       1~3   \n",
      "8516         1d    Male  46  Married partner  ...          1~3       1~3   \n",
      "\n",
      "     RestaurantLessThan20 Restaurant20To50 toCoupon_GEQ5min toCoupon_GEQ15min  \\\n",
      "4192                less1            less1                1                 1   \n",
      "4236                  4~8            less1                1                 1   \n",
      "4280                  1~3            less1                1                 1   \n",
      "4324                  1~3              1~3                1                 1   \n",
      "4409                  1~3            never                1                 1   \n",
      "...                   ...              ...              ...               ...   \n",
      "8511                less1              1~3                1                 0   \n",
      "8512                less1              1~3                1                 1   \n",
      "8513                less1              1~3                1                 1   \n",
      "8515                less1              1~3                1                 1   \n",
      "8516                less1              1~3                1                 0   \n",
      "\n",
      "     toCoupon_GEQ25min direction_same direction_opp  Y  \n",
      "4192                 1              0             1  1  \n",
      "4236                 1              0             1  1  \n",
      "4280                 1              0             1  1  \n",
      "4324                 1              0             1  1  \n",
      "4409                 1              0             1  0  \n",
      "...                ...            ...           ... ..  \n",
      "8511                 0              1             0  1  \n",
      "8512                 0              0             1  1  \n",
      "8513                 1              0             1  0  \n",
      "8515                 1              0             1  0  \n",
      "8516                 0              1             0  1  \n",
      "\n",
      "[74 rows x 26 columns]\n"
     ]
    }
   ],
   "source": [
    "# Check for Duplicates\n",
    "duplicate_rows = data[data.duplicated()]\n",
    "print(duplicate_rows)"
   ]
  },
  {
   "cell_type": "code",
   "execution_count": 7,
   "metadata": {},
   "outputs": [
    {
     "name": "stdout",
     "output_type": "stream",
     "text": [
      "        temperature  has_children  toCoupon_GEQ5min  toCoupon_GEQ15min  \\\n",
      "count  12684.000000  12684.000000           12684.0       12684.000000   \n",
      "mean      63.301798      0.414144               1.0           0.561495   \n",
      "std       19.154486      0.492593               0.0           0.496224   \n",
      "min       30.000000      0.000000               1.0           0.000000   \n",
      "25%       55.000000      0.000000               1.0           0.000000   \n",
      "50%       80.000000      0.000000               1.0           1.000000   \n",
      "75%       80.000000      1.000000               1.0           1.000000   \n",
      "max       80.000000      1.000000               1.0           1.000000   \n",
      "\n",
      "       toCoupon_GEQ25min  direction_same  direction_opp             Y  \n",
      "count       12684.000000    12684.000000   12684.000000  12684.000000  \n",
      "mean            0.119126        0.214759       0.785241      0.568433  \n",
      "std             0.323950        0.410671       0.410671      0.495314  \n",
      "min             0.000000        0.000000       0.000000      0.000000  \n",
      "25%             0.000000        0.000000       1.000000      0.000000  \n",
      "50%             0.000000        0.000000       1.000000      1.000000  \n",
      "75%             0.000000        0.000000       1.000000      1.000000  \n",
      "max             1.000000        1.000000       1.000000      1.000000  \n"
     ]
    }
   ],
   "source": [
    "# Statistical Summary\n",
    "summary = data.describe()\n",
    "print(summary)"
   ]
  },
  {
   "cell_type": "code",
   "execution_count": 8,
   "metadata": {},
   "outputs": [
    {
     "name": "stdout",
     "output_type": "stream",
     "text": [
      "           destination  passanger weather  temperature  time  \\\n",
      "2275   No Urgent Place  Friend(s)   Sunny           80   2PM   \n",
      "4800              Home      Alone   Sunny           80  10PM   \n",
      "4907              Home      Alone   Sunny           80   6PM   \n",
      "5112              Home      Alone   Sunny           80   6PM   \n",
      "1790   No Urgent Place  Friend(s)   Sunny           80   2PM   \n",
      "11639  No Urgent Place  Friend(s)   Snowy           30   2PM   \n",
      "3930              Work      Alone   Sunny           55   7AM   \n",
      "5427              Home      Alone   Sunny           80  10PM   \n",
      "6120   No Urgent Place    Partner   Sunny           80  10AM   \n",
      "6010              Home      Alone   Sunny           55   6PM   \n",
      "\n",
      "                  coupon expiration  gender age      maritalStatus  ...  \\\n",
      "2275        Coffee House         1d  Female  41             Single  ...   \n",
      "4800                 Bar         1d    Male  21             Single  ...   \n",
      "4907        Coffee House         1d  Female  31    Married partner  ...   \n",
      "5112        Coffee House         1d  Female  21             Single  ...   \n",
      "1790        Coffee House         2h    Male  36  Unmarried partner  ...   \n",
      "11639    Restaurant(<20)         1d    Male  21             Single  ...   \n",
      "3930     Restaurant(<20)         1d  Female  26             Single  ...   \n",
      "5427                 Bar         1d  Female  26             Single  ...   \n",
      "6120   Restaurant(20-50)         2h    Male  26    Married partner  ...   \n",
      "6010   Restaurant(20-50)         2h  Female  26             Single  ...   \n",
      "\n",
      "       CoffeeHouse CarryAway RestaurantLessThan20 Restaurant20To50  \\\n",
      "2275         less1     less1                less1            never   \n",
      "4800         never     less1                less1            never   \n",
      "4907           1~3       4~8                  4~8            never   \n",
      "5112         never     never                  gt8            less1   \n",
      "1790         less1       4~8                  1~3            less1   \n",
      "11639        less1     less1                  1~3              1~3   \n",
      "3930         never       1~3                less1            less1   \n",
      "5427           NaN       1~3                  1~3            less1   \n",
      "6120         never       1~3                  1~3            less1   \n",
      "6010           1~3       gt8                  4~8              1~3   \n",
      "\n",
      "      toCoupon_GEQ5min toCoupon_GEQ15min toCoupon_GEQ25min direction_same  \\\n",
      "2275                 1                 0                 0              0   \n",
      "4800                 1                 1                 0              1   \n",
      "4907                 1                 0                 0              1   \n",
      "5112                 1                 0                 0              1   \n",
      "1790                 1                 1                 0              0   \n",
      "11639                1                 0                 0              0   \n",
      "3930                 1                 0                 0              0   \n",
      "5427                 1                 1                 0              1   \n",
      "6120                 1                 0                 0              0   \n",
      "6010                 1                 1                 0              0   \n",
      "\n",
      "      direction_opp  Y  \n",
      "2275              1  0  \n",
      "4800              0  1  \n",
      "4907              0  1  \n",
      "5112              0  0  \n",
      "1790              1  1  \n",
      "11639             1  1  \n",
      "3930              1  1  \n",
      "5427              0  0  \n",
      "6120              1  0  \n",
      "6010              1  0  \n",
      "\n",
      "[10 rows x 26 columns]\n"
     ]
    }
   ],
   "source": [
    "# Display a random sample of 10 rows\n",
    "sample_data = data.sample(10)\n",
    "print(sample_data)"
   ]
  },
  {
   "cell_type": "markdown",
   "metadata": {},
   "source": [
    "3. Decide what to do about your missing data -- drop, replace, other..."
   ]
  },
  {
   "cell_type": "code",
   "execution_count": 9,
   "metadata": {},
   "outputs": [],
   "source": [
    "data = data.dropna()"
   ]
  },
  {
   "cell_type": "markdown",
   "metadata": {},
   "source": [
    "4. What proportion of the total observations chose to accept the coupon? \n",
    "\n"
   ]
  },
  {
   "cell_type": "code",
   "execution_count": 10,
   "metadata": {},
   "outputs": [
    {
     "name": "stdout",
     "output_type": "stream",
     "text": [
      "Proportion of total observations that accepted the coupon: 57.41%\n"
     ]
    }
   ],
   "source": [
    "# Count the number of observations where 'Y' is equal to 1 (accepted the coupon)\n",
    "accepted_count = data['Y'].sum()\n",
    "\n",
    "# Calculate the total number of observations in the dataset\n",
    "total_observations = len(data)\n",
    "\n",
    "# Calculate the proportion of accepted coupons\n",
    "proportion_accepted = accepted_count / total_observations\n",
    "\n",
    "print(f\"Proportion of total observations that accepted the coupon: {proportion_accepted:.2%}\")\n"
   ]
  },
  {
   "cell_type": "markdown",
   "metadata": {},
   "source": [
    "5. Use a bar plot to visualize the `coupon` column."
   ]
  },
  {
   "cell_type": "code",
   "execution_count": 11,
   "metadata": {},
   "outputs": [
    {
     "data": {
      "image/png": "[encoded data removed]",
      "text/plain": [
       "<Figure size 1000x600 with 1 Axes>"
      ]
     },
     "metadata": {},
     "output_type": "display_data"
    }
   ],
   "source": [
    "# Count the frequency of each coupon type\n",
    "coupon_counts = data['coupon'].value_counts()\n",
    "\n",
    "# Create a bar plot\n",
    "plt.figure(figsize=(10, 6))\n",
    "sns.barplot(x=coupon_counts.index, y=coupon_counts.values, palette=\"viridis\")\n",
    "plt.title('Distribution of Coupon Types')\n",
    "plt.xlabel('Coupon Type')\n",
    "plt.ylabel('Frequency')\n",
    "plt.xticks(rotation=45, ha='right')  # Rotate x-axis labels for better readability\n",
    "\n",
    "# Show the plot\n",
    "plt.tight_layout()\n",
    "plt.show()\n"
   ]
  },
  {
   "cell_type": "markdown",
   "metadata": {},
   "source": [
    "6. Use a histogram to visualize the temperature column."
   ]
  },
  {
   "cell_type": "code",
   "execution_count": 12,
   "metadata": {},
   "outputs": [
    {
     "data": {
      "image/png": "[encoded data removed]",
      "text/plain": [
       "<Figure size 800x600 with 1 Axes>"
      ]
     },
     "metadata": {},
     "output_type": "display_data"
    }
   ],
   "source": [
    "# Extract the 'temperature' column\n",
    "temperature_data = data['temperature']\n",
    "\n",
    "# Create a histogram\n",
    "plt.figure(figsize=(8, 6))\n",
    "plt.hist(temperature_data, bins=20, color='skyblue', edgecolor='black')\n",
    "plt.title('Histogram of Temperature Distribution')\n",
    "plt.xlabel('Temperature (°F)')\n",
    "plt.ylabel('Frequency')\n",
    "\n",
    "# Show the plot\n",
    "plt.tight_layout()\n",
    "plt.show()\n"
   ]
  },
  {
   "cell_type": "code",
   "execution_count": null,
   "metadata": {},
   "outputs": [],
   "source": []
  },
  {
   "cell_type": "code",
   "execution_count": null,
   "metadata": {},
   "outputs": [],
   "source": []
  },
  {
   "cell_type": "code",
   "execution_count": null,
   "metadata": {},
   "outputs": [],
   "source": []
  },
  {
   "cell_type": "code",
   "execution_count": null,
   "metadata": {},
   "outputs": [],
   "source": []
  },
  {
   "cell_type": "markdown",
   "metadata": {},
   "source": [
    "**Investigating the Bar Coupons**\n",
    "\n",
    "Now, we will lead you through an exploration of just the bar related coupons.  \n",
    "\n",
    "1. Create a new `DataFrame` that contains just the bar coupons.\n"
   ]
  },
  {
   "cell_type": "code",
   "execution_count": 13,
   "metadata": {},
   "outputs": [],
   "source": [
    "# Create a new DataFrame containing only the rows with 'Bar' coupons\n",
    "bar_coupons_data = data[data['coupon'] == 'Bar']"
   ]
  },
  {
   "cell_type": "markdown",
   "metadata": {},
   "source": [
    "2. What proportion of bar coupons were accepted?\n"
   ]
  },
  {
   "cell_type": "code",
   "execution_count": 14,
   "metadata": {},
   "outputs": [
    {
     "name": "stdout",
     "output_type": "stream",
     "text": [
      "Proportion of bar coupons that were accepted: 23.08%\n"
     ]
    }
   ],
   "source": [
    "# Filter the 'bar_coupons_data' DataFrame to include only accepted bar coupons (where 'Y' is equal to 1)\n",
    "accepted_bar_coupons = bar_coupons_data[bar_coupons_data['Y'] == 1]\n",
    "\n",
    "# Calculate the proportion of accepted bar coupons\n",
    "proportion_accepted = len(accepted_bar_coupons) / len(bar_coupons_data)\n",
    "\n",
    "print(f\"Proportion of bar coupons that were accepted: {proportion_accepted:.2%}\")"
   ]
  },
  {
   "cell_type": "markdown",
   "metadata": {},
   "source": [
    "3. Compare the acceptance rate between those who went to a bar 3 or fewer times a month to those who went more.\n"
   ]
  },
  {
   "cell_type": "code",
   "execution_count": 24,
   "metadata": {},
   "outputs": [
    {
     "name": "stdout",
     "output_type": "stream",
     "text": [
      "No records found for those who went to a bar 3 or fewer times a month.\n",
      "No records found for those who went to a bar more than 3 times a month.\n"
     ]
    },
    {
     "name": "stderr",
     "output_type": "stream",
     "text": [
      "/var/folders/60/n8tdrz_s3fn2tjrgj44nl00h0000gn/T/ipykernel_1759/1291481700.py:4: SettingWithCopyWarning: \n",
      "A value is trying to be set on a copy of a slice from a DataFrame.\n",
      "Try using .loc[row_indexer,col_indexer] = value instead\n",
      "\n",
      "See the caveats in the documentation: https://pandas.pydata.org/pandas-docs/stable/user_guide/indexing.html#returning-a-view-versus-a-copy\n",
      "  bar_coupons_data['Bar'] = bar_coupons_data['Bar'].map({\n"
     ]
    }
   ],
   "source": [
    "# Convert the 'Bar' column to numeric based on the categories, treating missing values as -1\n",
    "bar_coupons_data['Bar'] = bar_coupons_data['Bar'].map({\n",
    "    'never': 0,\n",
    "    'less1': 1,\n",
    "    '1~3': 2,\n",
    "    '4~8': 3,\n",
    "    'gt8': 4,\n",
    "    # Assign missing values to category -1\n",
    "    None: -1  # You can use np.nan instead of None if needed\n",
    "})\n",
    "\n",
    "# Create a DataFrame for individuals who went to a bar 3 or fewer times a month\n",
    "bar_fewer_than_4 = bar_coupons_data[bar_coupons_data['Bar'] <= 2]\n",
    "\n",
    "# Create a DataFrame for individuals who went to a bar more than 3 times a month\n",
    "bar_more_than_3 = bar_coupons_data[bar_coupons_data['Bar'] >= 3]\n",
    "\n",
    "# Calculate acceptance rate for those who went to a bar 3 or fewer times a month\n",
    "if len(bar_fewer_than_4) > 0:\n",
    "    acceptance_rate_fewer_than_4 = len(bar_fewer_than_4[bar_fewer_than_4['Y'] == 1]) / len(bar_fewer_than_4)\n",
    "    print(f\"Acceptance rate for those who went to a bar 3 or fewer times a month: {acceptance_rate_fewer_than_4:.2%}\")\n",
    "else:\n",
    "    print(\"No records found for those who went to a bar 3 or fewer times a month.\")\n",
    "\n",
    "# Calculate acceptance rate for those who went to a bar more than 3 times a month\n",
    "if len(bar_more_than_3) > 0:\n",
    "    acceptance_rate_more_than_3 = len(bar_more_than_3[bar_more_than_3['Y'] == 1]) / len(bar_more_than_3)\n",
    "    print(f\"Acceptance rate for those who went to a bar more than 3 times a month: {acceptance_rate_more_than_3:.2%}\")\n",
    "else:\n",
    "    print(\"No records found for those who went to a bar more than 3 times a month.\")\n"
   ]
  },
  {
   "cell_type": "code",
   "execution_count": null,
   "metadata": {},
   "outputs": [],
   "source": []
  },
  {
   "cell_type": "markdown",
   "metadata": {},
   "source": [
    "4. Compare the acceptance rate between drivers who go to a bar more than once a month and are over the age of 25 to the all others.  Is there a difference?\n"
   ]
  },
  {
   "cell_type": "code",
   "execution_count": 28,
   "metadata": {},
   "outputs": [
    {
     "name": "stdout",
     "output_type": "stream",
     "text": [
      "No records found for selected drivers.\n",
      "Acceptance rate for all other drivers: 23.08%\n",
      "Insufficient data to compare acceptance rates.\n"
     ]
    },
    {
     "name": "stderr",
     "output_type": "stream",
     "text": [
      "/var/folders/60/n8tdrz_s3fn2tjrgj44nl00h0000gn/T/ipykernel_1759/3241245782.py:2: SettingWithCopyWarning: \n",
      "A value is trying to be set on a copy of a slice from a DataFrame.\n",
      "Try using .loc[row_indexer,col_indexer] = value instead\n",
      "\n",
      "See the caveats in the documentation: https://pandas.pydata.org/pandas-docs/stable/user_guide/indexing.html#returning-a-view-versus-a-copy\n",
      "  bar_coupons_data['Bar'] = bar_coupons_data['Bar'].map({\n",
      "/var/folders/60/n8tdrz_s3fn2tjrgj44nl00h0000gn/T/ipykernel_1759/3241245782.py:13: SettingWithCopyWarning: \n",
      "A value is trying to be set on a copy of a slice from a DataFrame.\n",
      "Try using .loc[row_indexer,col_indexer] = value instead\n",
      "\n",
      "See the caveats in the documentation: https://pandas.pydata.org/pandas-docs/stable/user_guide/indexing.html#returning-a-view-versus-a-copy\n",
      "  bar_coupons_data['age'] = pd.to_numeric(bar_coupons_data['age'], errors='coerce')\n",
      "/var/folders/60/n8tdrz_s3fn2tjrgj44nl00h0000gn/T/ipykernel_1759/3241245782.py:14: SettingWithCopyWarning: \n",
      "A value is trying to be set on a copy of a slice from a DataFrame.\n",
      "Try using .loc[row_indexer,col_indexer] = value instead\n",
      "\n",
      "See the caveats in the documentation: https://pandas.pydata.org/pandas-docs/stable/user_guide/indexing.html#returning-a-view-versus-a-copy\n",
      "  bar_coupons_data['age'] = bar_coupons_data['age'].fillna(-1)\n"
     ]
    }
   ],
   "source": [
    "# Convert the 'Bar' column to numeric based on the categories, treating missing values as -1\n",
    "bar_coupons_data['Bar'] = bar_coupons_data['Bar'].map({\n",
    "    'never': 0,\n",
    "    'less1': 1,\n",
    "    '1~3': 2,\n",
    "    '4~8': 3,\n",
    "    'gt8': 4,\n",
    "    # Assign missing values to category -1\n",
    "    None: -1  # You can use np.nan instead of None if needed\n",
    "})\n",
    "\n",
    "# Convert the 'age' column to numeric, treating missing values as -1\n",
    "bar_coupons_data['age'] = pd.to_numeric(bar_coupons_data['age'], errors='coerce')\n",
    "bar_coupons_data['age'] = bar_coupons_data['age'].fillna(-1)\n",
    "\n",
    "# Create a DataFrame for drivers who go to a bar more than once a month and are over the age of 25\n",
    "selected_drivers = bar_coupons_data[(bar_coupons_data['Bar'] >= 2) & (bar_coupons_data['age'] > 25)]\n",
    "\n",
    "# Create a DataFrame for all other drivers\n",
    "other_drivers = bar_coupons_data[~((bar_coupons_data['Bar'] >= 2) & (bar_coupons_data['age'] > 25))]\n",
    "\n",
    "# Calculate acceptance rate for drivers who meet the criteria\n",
    "if len(selected_drivers) > 0:\n",
    "    acceptance_rate_selected = len(selected_drivers[selected_drivers['Y'] == 1]) / len(selected_drivers)\n",
    "    print(f\"Acceptance rate for drivers who go to a bar more than once a month and are over the age of 25: {acceptance_rate_selected:.2%}\")\n",
    "else:\n",
    "    print(\"No records found for selected drivers.\")\n",
    "\n",
    "# Calculate acceptance rate for all other drivers\n",
    "if len(other_drivers) > 0:\n",
    "    acceptance_rate_other = len(other_drivers[other_drivers['Y'] == 1]) / len(other_drivers)\n",
    "    print(f\"Acceptance rate for all other drivers: {acceptance_rate_other:.2%}\")\n",
    "else:\n",
    "    print(\"No records found for other drivers.\")\n",
    "\n",
    "# Compare the acceptance rates\n",
    "if len(selected_drivers) > 0 and len(other_drivers) > 0:\n",
    "    if acceptance_rate_selected > acceptance_rate_other:\n",
    "        print(\"Drivers who go to a bar more than once a month and are over the age of 25 have a higher acceptance rate.\")\n",
    "    elif acceptance_rate_selected < acceptance_rate_other:\n",
    "        print(\"All other drivers have a higher acceptance rate.\")\n",
    "    else:\n",
    "        print(\"Both groups have the same acceptance rate.\")\n",
    "else:\n",
    "    print(\"Insufficient data to compare acceptance rates.\")\n",
    "\n",
    "\n"
   ]
  },
  {
   "cell_type": "markdown",
   "metadata": {},
   "source": [
    "5. Use the same process to compare the acceptance rate between drivers who go to bars more than once a month and had passengers that were not a kid and had occupations other than farming, fishing, or forestry. \n"
   ]
  },
  {
   "cell_type": "code",
   "execution_count": 29,
   "metadata": {},
   "outputs": [
    {
     "name": "stdout",
     "output_type": "stream",
     "text": [
      "No records found for selected drivers.\n",
      "Acceptance rate for all other drivers: 23.08%\n",
      "Insufficient data to compare acceptance rates.\n"
     ]
    },
    {
     "name": "stderr",
     "output_type": "stream",
     "text": [
      "/var/folders/60/n8tdrz_s3fn2tjrgj44nl00h0000gn/T/ipykernel_1759/4194523706.py:5: SettingWithCopyWarning: \n",
      "A value is trying to be set on a copy of a slice from a DataFrame.\n",
      "Try using .loc[row_indexer,col_indexer] = value instead\n",
      "\n",
      "See the caveats in the documentation: https://pandas.pydata.org/pandas-docs/stable/user_guide/indexing.html#returning-a-view-versus-a-copy\n",
      "  bar_coupons_data['Bar'] = bar_coupons_data['Bar'].map({\n",
      "/var/folders/60/n8tdrz_s3fn2tjrgj44nl00h0000gn/T/ipykernel_1759/4194523706.py:16: SettingWithCopyWarning: \n",
      "A value is trying to be set on a copy of a slice from a DataFrame.\n",
      "Try using .loc[row_indexer,col_indexer] = value instead\n",
      "\n",
      "See the caveats in the documentation: https://pandas.pydata.org/pandas-docs/stable/user_guide/indexing.html#returning-a-view-versus-a-copy\n",
      "  bar_coupons_data['age'] = pd.to_numeric(bar_coupons_data['age'], errors='coerce')\n",
      "/var/folders/60/n8tdrz_s3fn2tjrgj44nl00h0000gn/T/ipykernel_1759/4194523706.py:17: SettingWithCopyWarning: \n",
      "A value is trying to be set on a copy of a slice from a DataFrame.\n",
      "Try using .loc[row_indexer,col_indexer] = value instead\n",
      "\n",
      "See the caveats in the documentation: https://pandas.pydata.org/pandas-docs/stable/user_guide/indexing.html#returning-a-view-versus-a-copy\n",
      "  bar_coupons_data['age'] = bar_coupons_data['age'].fillna(-1)\n"
     ]
    }
   ],
   "source": [
    "import pandas as pd\n",
    "import numpy as np\n",
    "\n",
    "# Convert the 'Bar' column to numeric based on the categories, treating missing values as -1\n",
    "bar_coupons_data['Bar'] = bar_coupons_data['Bar'].map({\n",
    "    'never': 0,\n",
    "    'less1': 1,\n",
    "    '1~3': 2,\n",
    "    '4~8': 3,\n",
    "    'gt8': 4,\n",
    "    # Assign missing values to category -1\n",
    "    None: -1  # You can use np.nan instead of None if needed\n",
    "})\n",
    "\n",
    "# Convert the 'age' column to numeric, treating missing values as -1\n",
    "bar_coupons_data['age'] = pd.to_numeric(bar_coupons_data['age'], errors='coerce')\n",
    "bar_coupons_data['age'] = bar_coupons_data['age'].fillna(-1)\n",
    "\n",
    "# Create a list of occupations to exclude (farming, fishing, or forestry)\n",
    "exclude_occupations = ['farming, fishing, or forestry']\n",
    "\n",
    "# Create a DataFrame for drivers who go to a bar more than once a month, passengers >= 18, and exclude specific occupations\n",
    "selected_drivers = bar_coupons_data[\n",
    "    (bar_coupons_data['Bar'] >= 2) &\n",
    "    (bar_coupons_data['age'] >= 18) &\n",
    "    (~bar_coupons_data['occupation'].isin(exclude_occupations))\n",
    "]\n",
    "\n",
    "# Create a DataFrame for all other drivers\n",
    "other_drivers = bar_coupons_data[\n",
    "    ~((bar_coupons_data['Bar'] >= 2) &\n",
    "    (bar_coupons_data['age'] >= 18) &\n",
    "    (~bar_coupons_data['occupation'].isin(exclude_occupations)))\n",
    "]\n",
    "\n",
    "# Calculate acceptance rate for drivers who meet the criteria\n",
    "if len(selected_drivers) > 0:\n",
    "    acceptance_rate_selected = len(selected_drivers[selected_drivers['Y'] == 1]) / len(selected_drivers)\n",
    "    print(f\"Acceptance rate for drivers who go to a bar more than once a month, passengers >= 18, and exclude specific occupations: {acceptance_rate_selected:.2%}\")\n",
    "else:\n",
    "    print(\"No records found for selected drivers.\")\n",
    "\n",
    "# Calculate acceptance rate for all other drivers\n",
    "if len(other_drivers) > 0:\n",
    "    acceptance_rate_other = len(other_drivers[other_drivers['Y'] == 1]) / len(other_drivers)\n",
    "    print(f\"Acceptance rate for all other drivers: {acceptance_rate_other:.2%}\")\n",
    "else:\n",
    "    print(\"No records found for other drivers.\")\n",
    "\n",
    "# Compare the acceptance rates\n",
    "if len(selected_drivers) > 0 and len(other_drivers) > 0:\n",
    "    if acceptance_rate_selected > acceptance_rate_other:\n",
    "        print(\"Drivers who go to a bar more than once a month, passengers >= 18, and exclude specific occupations have a higher acceptance rate.\")\n",
    "    elif acceptance_rate_selected < acceptance_rate_other:\n",
    "        print(\"All other drivers have a higher acceptance rate.\")\n",
    "    else:\n",
    "        print(\"Both groups have the same acceptance rate.\")\n",
    "else:\n",
    "    print(\"Insufficient data to compare acceptance rates.\")\n"
   ]
  },
  {
   "cell_type": "markdown",
   "metadata": {},
   "source": [
    "6. Compare the acceptance rates between those drivers who:\n",
    "\n",
    "- go to bars more than once a month, had passengers that were not a kid, and were not widowed *OR*\n",
    "- go to bars more than once a month and are under the age of 30 *OR*\n",
    "- go to cheap restaurants more than 4 times a month and income is less than 50K. \n",
    "\n"
   ]
  },
  {
   "cell_type": "code",
   "execution_count": 31,
   "metadata": {},
   "outputs": [
    {
     "name": "stdout",
     "output_type": "stream",
     "text": [
      "No records found for drivers who meet the first condition.\n",
      "No records found for drivers who meet the second condition.\n",
      "No records found for drivers who meet the third condition.\n",
      "Insufficient data to compare acceptance rates.\n"
     ]
    },
    {
     "name": "stderr",
     "output_type": "stream",
     "text": [
      "/var/folders/60/n8tdrz_s3fn2tjrgj44nl00h0000gn/T/ipykernel_1759/3847572811.py:4: SettingWithCopyWarning: \n",
      "A value is trying to be set on a copy of a slice from a DataFrame.\n",
      "Try using .loc[row_indexer,col_indexer] = value instead\n",
      "\n",
      "See the caveats in the documentation: https://pandas.pydata.org/pandas-docs/stable/user_guide/indexing.html#returning-a-view-versus-a-copy\n",
      "  df[col] = pd.to_numeric(df[col], errors='coerce')\n",
      "/var/folders/60/n8tdrz_s3fn2tjrgj44nl00h0000gn/T/ipykernel_1759/3847572811.py:5: SettingWithCopyWarning: \n",
      "A value is trying to be set on a copy of a slice from a DataFrame.\n",
      "Try using .loc[row_indexer,col_indexer] = value instead\n",
      "\n",
      "See the caveats in the documentation: https://pandas.pydata.org/pandas-docs/stable/user_guide/indexing.html#returning-a-view-versus-a-copy\n",
      "  df[col] = df[col].fillna(-1)\n"
     ]
    }
   ],
   "source": [
    "# Define a function to convert columns to numeric and handle missing values\n",
    "def convert_to_numeric(df, columns):\n",
    "    for col in columns:\n",
    "        df[col] = pd.to_numeric(df[col], errors='coerce')\n",
    "        df[col] = df[col].fillna(-1)\n",
    "\n",
    "# Convert the relevant columns to numeric\n",
    "convert_to_numeric(bar_coupons_data, ['Bar', 'age', 'income', 'RestaurantLessThan20'])\n",
    "\n",
    "# Create a DataFrame for drivers who meet the first condition\n",
    "condition_1_drivers = bar_coupons_data[\n",
    "    (bar_coupons_data['Bar'] >= 2) &\n",
    "    (bar_coupons_data['age'] < 18) &\n",
    "    (bar_coupons_data['maritalStatus'] != 'widowed')\n",
    "]\n",
    "\n",
    "# Create a DataFrame for drivers who meet the second condition\n",
    "condition_2_drivers = bar_coupons_data[\n",
    "    (bar_coupons_data['Bar'] >= 2) &\n",
    "    (bar_coupons_data['age'] < 30)\n",
    "]\n",
    "\n",
    "# Create a DataFrame for drivers who meet the third condition\n",
    "condition_3_drivers = bar_coupons_data[\n",
    "    (bar_coupons_data['RestaurantLessThan20'] > 4) &\n",
    "    (bar_coupons_data['income'] < 50000)\n",
    "]\n",
    "\n",
    "# Calculate acceptance rate for drivers who meet the first condition\n",
    "if len(condition_1_drivers) > 0:\n",
    "    acceptance_rate_condition_1 = len(condition_1_drivers[condition_1_drivers['Y'] == 1]) / len(condition_1_drivers)\n",
    "    print(f\"Acceptance rate for drivers who meet the first condition: {acceptance_rate_condition_1:.2%}\")\n",
    "else:\n",
    "    print(\"No records found for drivers who meet the first condition.\")\n",
    "\n",
    "# Calculate acceptance rate for drivers who meet the second condition\n",
    "if len(condition_2_drivers) > 0:\n",
    "    acceptance_rate_condition_2 = len(condition_2_drivers[condition_2_drivers['Y'] == 1]) / len(condition_2_drivers)\n",
    "    print(f\"Acceptance rate for drivers who meet the second condition: {acceptance_rate_condition_2:.2%}\")\n",
    "else:\n",
    "    print(\"No records found for drivers who meet the second condition.\")\n",
    "\n",
    "# Calculate acceptance rate for drivers who meet the third condition\n",
    "if len(condition_3_drivers) > 0:\n",
    "    acceptance_rate_condition_3 = len(condition_3_drivers[condition_3_drivers['Y'] == 1]) / len(condition_3_drivers)\n",
    "    print(f\"Acceptance rate for drivers who meet the third condition: {acceptance_rate_condition_3:.2%}\")\n",
    "else:\n",
    "    print(\"No records found for drivers who meet the third condition.\")\n",
    "\n",
    "# Compare the acceptance rates\n",
    "if (\n",
    "    len(condition_1_drivers) > 0 or\n",
    "    len(condition_2_drivers) > 0 or\n",
    "    len(condition_3_drivers) > 0\n",
    "):\n",
    "    max_acceptance_rate = max(acceptance_rate_condition_1, acceptance_rate_condition_2, acceptance_rate_condition_3)\n",
    "    if max_acceptance_rate == acceptance_rate_condition_1:\n",
    "        print(\"Drivers who meet the first condition have the highest acceptance rate.\")\n",
    "    elif max_acceptance_rate == acceptance_rate_condition_2:\n",
    "        print(\"Drivers who meet the second condition have the highest acceptance rate.\")\n",
    "    else:\n",
    "        print(\"Drivers who meet the third condition have the highest acceptance rate.\")\n",
    "else:\n",
    "    print(\"Insufficient data to compare acceptance rates.\")\n",
    "\n"
   ]
  },
  {
   "cell_type": "markdown",
   "metadata": {},
   "source": [
    "7.  Based on these observations, what do you hypothesize about drivers who accepted the bar coupons?"
   ]
  },
  {
   "cell_type": "code",
   "execution_count": 32,
   "metadata": {},
   "outputs": [],
   "source": [
    "def calculate_acceptance_rate(df):\n",
    "    if len(df) == 0:\n",
    "        return None\n",
    "    return len(df[df['Y'] == 1]) / len(df)\n",
    "\n",
    "def print_acceptance_rates(group1, group2, label1, label2):\n",
    "    rate1 = calculate_acceptance_rate(group1)\n",
    "    rate2 = calculate_acceptance_rate(group2)\n",
    "    \n",
    "    if rate1 is not None:\n",
    "        print(f\"Acceptance rate for {label1}: {rate1:.2%}\")\n",
    "    else:\n",
    "        print(f\"No records found for {label1}\")\n",
    "    \n",
    "    if rate2 is not None:\n",
    "        print(f\"Acceptance rate for {label2}: {rate2:.2%}\")\n",
    "    else:\n",
    "        print(f\"No records found for {label2}\")\n",
    "    \n",
    "    if rate1 is not None and rate2 is not None:\n",
    "        if rate1 > rate2:\n",
    "            print(f\"{label1} have a higher acceptance rate.\")\n",
    "        elif rate1 < rate2:\n",
    "            print(f\"{label2} have a higher acceptance rate.\")\n",
    "        else:\n",
    "            print(\"Both groups have the same acceptance rate.\")\n",
    "    else:\n",
    "        print(\"Insufficient data to compare acceptance rates.\")\n"
   ]
  },
  {
   "cell_type": "code",
   "execution_count": 33,
   "metadata": {},
   "outputs": [
    {
     "name": "stdout",
     "output_type": "stream",
     "text": [
      "No records found for selected drivers\n",
      "Acceptance rate for all other drivers: 23.08%\n",
      "Insufficient data to compare acceptance rates.\n"
     ]
    }
   ],
   "source": [
    "print_acceptance_rates(selected_drivers, other_drivers, \"selected drivers\", \"all other drivers\")\n"
   ]
  },
  {
   "cell_type": "markdown",
   "metadata": {},
   "source": [
    "### Independent Investigation\n",
    "\n",
    "Using the bar coupon example as motivation, you are to explore one of the other coupon groups and try to determine the characteristics of passengers who accept the coupons.  "
   ]
  },
  {
   "cell_type": "code",
   "execution_count": 36,
   "metadata": {},
   "outputs": [
    {
     "name": "stdout",
     "output_type": "stream",
     "text": [
      "       temperature  has_children  toCoupon_GEQ5min  toCoupon_GEQ15min  \\\n",
      "count          0.0           0.0               0.0                0.0   \n",
      "mean           NaN           NaN               NaN                NaN   \n",
      "std            NaN           NaN               NaN                NaN   \n",
      "min            NaN           NaN               NaN                NaN   \n",
      "25%            NaN           NaN               NaN                NaN   \n",
      "50%            NaN           NaN               NaN                NaN   \n",
      "75%            NaN           NaN               NaN                NaN   \n",
      "max            NaN           NaN               NaN                NaN   \n",
      "\n",
      "       toCoupon_GEQ25min  direction_same  direction_opp    Y  \n",
      "count                0.0             0.0            0.0  0.0  \n",
      "mean                 NaN             NaN            NaN  NaN  \n",
      "std                  NaN             NaN            NaN  NaN  \n",
      "min                  NaN             NaN            NaN  NaN  \n",
      "25%                  NaN             NaN            NaN  NaN  \n",
      "50%                  NaN             NaN            NaN  NaN  \n",
      "75%                  NaN             NaN            NaN  NaN  \n",
      "max                  NaN             NaN            NaN  NaN  \n",
      "Series([], Name: count, dtype: int64)\n",
      "Series([], Name: count, dtype: int64)\n",
      "Series([], Name: count, dtype: int64)\n"
     ]
    }
   ],
   "source": [
    "# Filter out rows where RestaurantLessThan20 coupons were offered and accepted\n",
    "restaurant_coupon_data = data[(data['coupon'] == 'RestaurantLessThan20') & (data['Y'] == 1)]\n",
    "\n",
    "# Descriptive Statistics\n",
    "print(restaurant_coupon_data.describe())\n",
    "\n",
    "# You can also perform more in-depth analysis like distribution of age, gender, income, etc.\n",
    "print(restaurant_coupon_data['gender'].value_counts())\n",
    "print(restaurant_coupon_data['age'].value_counts())\n",
    "print(restaurant_coupon_data['income'].value_counts())\n"
   ]
  },
  {
   "cell_type": "code",
   "execution_count": null,
   "metadata": {},
   "outputs": [],
   "source": []
  },
  {
   "cell_type": "code",
   "execution_count": null,
   "metadata": {},
   "outputs": [],
   "source": []
  },
  {
   "cell_type": "code",
   "execution_count": null,
   "metadata": {},
   "outputs": [],
   "source": []
  }
 ],
 "metadata": {
  "kernelspec": {
   "display_name": "Python 3 (ipykernel)",
   "language": "python",
   "name": "python3"
  },
  "language_info": {
   "codemirror_mode": {
    "name": "ipython",
    "version": 3
   },
   "file_extension": ".py",
   "mimetype": "text/x-python",
   "name": "python",
   "nbconvert_exporter": "python",
   "pygments_lexer": "ipython3",
   "version": "3.11.4"
  },
  "widgets": {
   "application/vnd.jupyter.widget-state+json": {
    "state": {},
    "version_major": 2,
    "version_minor": 0
   }
  }
 },
 "nbformat": 4,
 "nbformat_minor": 4
}
